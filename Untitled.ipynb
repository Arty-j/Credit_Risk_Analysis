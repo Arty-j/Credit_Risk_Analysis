{
 "cells": [
  {
   "cell_type": "code",
   "execution_count": null,
   "id": "588b6fe1-63a7-45da-b94e-e97b33d75346",
   "metadata": {},
   "outputs": [],
   "source": [
    "import pandas as pd\n",
    "from Pathlib import Path\n",
    "from datetime import datetime\n",
    "from tqdm import tqdm\n",
    "import psutil\n",
    "from numpy import mean, where, sqrt"
   ]
  },
  {
   "cell_type": "code",
   "execution_count": null,
   "id": "ac72ab0e-8819-4984-98f4-7cb57a8f5105",
   "metadata": {},
   "outputs": [],
   "source": [
    "GHI_df = pd.read_csv(Path(\"."
   ]
  }
 ],
 "metadata": {
  "kernelspec": {
   "display_name": "Python (dev)",
   "language": "python",
   "name": "dev"
  },
  "language_info": {
   "codemirror_mode": {
    "name": "ipython",
    "version": 3
   },
   "file_extension": ".py",
   "mimetype": "text/x-python",
   "name": "python",
   "nbconvert_exporter": "python",
   "pygments_lexer": "ipython3",
   "version": "3.7.13"
  }
 },
 "nbformat": 4,
 "nbformat_minor": 5
}
